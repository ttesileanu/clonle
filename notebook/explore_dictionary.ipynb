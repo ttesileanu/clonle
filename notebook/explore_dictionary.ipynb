{
 "cells": [
  {
   "cell_type": "markdown",
   "metadata": {},
   "source": [
    "# Explore the word dictionaries"
   ]
  },
  {
   "cell_type": "code",
   "execution_count": 1,
   "metadata": {},
   "outputs": [],
   "source": [
    "import os\n",
    "import tqdm\n",
    "import numpy as np\n",
    "import pandas as pd\n",
    "\n",
    "import matplotlib.pyplot as plt\n",
    "import seaborn as sns\n",
    "\n",
    "from string import ascii_lowercase\n",
    "\n",
    "base_path = \"..\"\n",
    "data_path = os.path.join(base_path, \"data\")"
   ]
  },
  {
   "cell_type": "markdown",
   "metadata": {},
   "source": [
    "## Words from Google Web Trillion Word Corpus"
   ]
  },
  {
   "cell_type": "markdown",
   "metadata": {},
   "source": [
    "Load the words from the [Google Web Trillion Word Corpus](https://www.kaggle.com/rtatman/english-word-frequency) and add a `freq` field to measure frequency of words -- more useful than pure counts."
   ]
  },
  {
   "cell_type": "code",
   "execution_count": 2,
   "metadata": {},
   "outputs": [
    {
     "data": {
      "text/html": [
       "<div>\n",
       "<style scoped>\n",
       "    .dataframe tbody tr th:only-of-type {\n",
       "        vertical-align: middle;\n",
       "    }\n",
       "\n",
       "    .dataframe tbody tr th {\n",
       "        vertical-align: top;\n",
       "    }\n",
       "\n",
       "    .dataframe thead th {\n",
       "        text-align: right;\n",
       "    }\n",
       "</style>\n",
       "<table border=\"1\" class=\"dataframe\">\n",
       "  <thead>\n",
       "    <tr style=\"text-align: right;\">\n",
       "      <th></th>\n",
       "      <th>word</th>\n",
       "      <th>count</th>\n",
       "      <th>freq</th>\n",
       "    </tr>\n",
       "  </thead>\n",
       "  <tbody>\n",
       "    <tr>\n",
       "      <th>0</th>\n",
       "      <td>the</td>\n",
       "      <td>23135851162</td>\n",
       "      <td>3.933838e-02</td>\n",
       "    </tr>\n",
       "    <tr>\n",
       "      <th>1</th>\n",
       "      <td>of</td>\n",
       "      <td>13151942776</td>\n",
       "      <td>2.236253e-02</td>\n",
       "    </tr>\n",
       "    <tr>\n",
       "      <th>2</th>\n",
       "      <td>and</td>\n",
       "      <td>12997637966</td>\n",
       "      <td>2.210016e-02</td>\n",
       "    </tr>\n",
       "    <tr>\n",
       "      <th>3</th>\n",
       "      <td>to</td>\n",
       "      <td>12136980858</td>\n",
       "      <td>2.063676e-02</td>\n",
       "    </tr>\n",
       "    <tr>\n",
       "      <th>4</th>\n",
       "      <td>a</td>\n",
       "      <td>9081174698</td>\n",
       "      <td>1.544091e-02</td>\n",
       "    </tr>\n",
       "    <tr>\n",
       "      <th>...</th>\n",
       "      <td>...</td>\n",
       "      <td>...</td>\n",
       "      <td>...</td>\n",
       "    </tr>\n",
       "    <tr>\n",
       "      <th>333328</th>\n",
       "      <td>gooek</td>\n",
       "      <td>12711</td>\n",
       "      <td>2.161278e-08</td>\n",
       "    </tr>\n",
       "    <tr>\n",
       "      <th>333329</th>\n",
       "      <td>gooddg</td>\n",
       "      <td>12711</td>\n",
       "      <td>2.161278e-08</td>\n",
       "    </tr>\n",
       "    <tr>\n",
       "      <th>333330</th>\n",
       "      <td>gooblle</td>\n",
       "      <td>12711</td>\n",
       "      <td>2.161278e-08</td>\n",
       "    </tr>\n",
       "    <tr>\n",
       "      <th>333331</th>\n",
       "      <td>gollgo</td>\n",
       "      <td>12711</td>\n",
       "      <td>2.161278e-08</td>\n",
       "    </tr>\n",
       "    <tr>\n",
       "      <th>333332</th>\n",
       "      <td>golgw</td>\n",
       "      <td>12711</td>\n",
       "      <td>2.161278e-08</td>\n",
       "    </tr>\n",
       "  </tbody>\n",
       "</table>\n",
       "<p>333333 rows × 3 columns</p>\n",
       "</div>"
      ],
      "text/plain": [
       "           word        count          freq\n",
       "0           the  23135851162  3.933838e-02\n",
       "1            of  13151942776  2.236253e-02\n",
       "2           and  12997637966  2.210016e-02\n",
       "3            to  12136980858  2.063676e-02\n",
       "4             a   9081174698  1.544091e-02\n",
       "...         ...          ...           ...\n",
       "333328    gooek        12711  2.161278e-08\n",
       "333329   gooddg        12711  2.161278e-08\n",
       "333330  gooblle        12711  2.161278e-08\n",
       "333331   gollgo        12711  2.161278e-08\n",
       "333332    golgw        12711  2.161278e-08\n",
       "\n",
       "[333333 rows x 3 columns]"
      ]
     },
     "execution_count": 2,
     "metadata": {},
     "output_type": "execute_result"
    }
   ],
   "source": [
    "data = pd.read_csv(os.path.join(data_path, \"unigram_freq.csv\"))\n",
    "data[\"freq\"] = data[\"count\"] / data[\"count\"].sum()\n",
    "data"
   ]
  },
  {
   "cell_type": "markdown",
   "metadata": {},
   "source": [
    "Let's see how many words we have of length 5."
   ]
  },
  {
   "cell_type": "code",
   "execution_count": 3,
   "metadata": {},
   "outputs": [
    {
     "data": {
      "text/html": [
       "<div>\n",
       "<style scoped>\n",
       "    .dataframe tbody tr th:only-of-type {\n",
       "        vertical-align: middle;\n",
       "    }\n",
       "\n",
       "    .dataframe tbody tr th {\n",
       "        vertical-align: top;\n",
       "    }\n",
       "\n",
       "    .dataframe thead th {\n",
       "        text-align: right;\n",
       "    }\n",
       "</style>\n",
       "<table border=\"1\" class=\"dataframe\">\n",
       "  <thead>\n",
       "    <tr style=\"text-align: right;\">\n",
       "      <th></th>\n",
       "      <th>word</th>\n",
       "      <th>count</th>\n",
       "      <th>freq</th>\n",
       "    </tr>\n",
       "  </thead>\n",
       "  <tbody>\n",
       "    <tr>\n",
       "      <th>35</th>\n",
       "      <td>about</td>\n",
       "      <td>1226734006</td>\n",
       "      <td>2.085842e-03</td>\n",
       "    </tr>\n",
       "    <tr>\n",
       "      <th>45</th>\n",
       "      <td>other</td>\n",
       "      <td>978481319</td>\n",
       "      <td>1.663732e-03</td>\n",
       "    </tr>\n",
       "    <tr>\n",
       "      <th>56</th>\n",
       "      <td>which</td>\n",
       "      <td>810514085</td>\n",
       "      <td>1.378134e-03</td>\n",
       "    </tr>\n",
       "    <tr>\n",
       "      <th>57</th>\n",
       "      <td>their</td>\n",
       "      <td>782849411</td>\n",
       "      <td>1.331095e-03</td>\n",
       "    </tr>\n",
       "    <tr>\n",
       "      <th>62</th>\n",
       "      <td>there</td>\n",
       "      <td>701170205</td>\n",
       "      <td>1.192214e-03</td>\n",
       "    </tr>\n",
       "    <tr>\n",
       "      <th>...</th>\n",
       "      <td>...</td>\n",
       "      <td>...</td>\n",
       "      <td>...</td>\n",
       "    </tr>\n",
       "    <tr>\n",
       "      <th>333307</th>\n",
       "      <td>goovo</td>\n",
       "      <td>12711</td>\n",
       "      <td>2.161278e-08</td>\n",
       "    </tr>\n",
       "    <tr>\n",
       "      <th>333308</th>\n",
       "      <td>goova</td>\n",
       "      <td>12711</td>\n",
       "      <td>2.161278e-08</td>\n",
       "    </tr>\n",
       "    <tr>\n",
       "      <th>333320</th>\n",
       "      <td>goolh</td>\n",
       "      <td>12711</td>\n",
       "      <td>2.161278e-08</td>\n",
       "    </tr>\n",
       "    <tr>\n",
       "      <th>333328</th>\n",
       "      <td>gooek</td>\n",
       "      <td>12711</td>\n",
       "      <td>2.161278e-08</td>\n",
       "    </tr>\n",
       "    <tr>\n",
       "      <th>333332</th>\n",
       "      <td>golgw</td>\n",
       "      <td>12711</td>\n",
       "      <td>2.161278e-08</td>\n",
       "    </tr>\n",
       "  </tbody>\n",
       "</table>\n",
       "<p>39933 rows × 3 columns</p>\n",
       "</div>"
      ],
      "text/plain": [
       "         word       count          freq\n",
       "35      about  1226734006  2.085842e-03\n",
       "45      other   978481319  1.663732e-03\n",
       "56      which   810514085  1.378134e-03\n",
       "57      their   782849411  1.331095e-03\n",
       "62      there   701170205  1.192214e-03\n",
       "...       ...         ...           ...\n",
       "333307  goovo       12711  2.161278e-08\n",
       "333308  goova       12711  2.161278e-08\n",
       "333320  goolh       12711  2.161278e-08\n",
       "333328  gooek       12711  2.161278e-08\n",
       "333332  golgw       12711  2.161278e-08\n",
       "\n",
       "[39933 rows x 3 columns]"
      ]
     },
     "execution_count": 3,
     "metadata": {},
     "output_type": "execute_result"
    }
   ],
   "source": [
    "five_word = data[data[\"word\"].str.len() == 5]\n",
    "five_word"
   ]
  },
  {
   "cell_type": "markdown",
   "metadata": {},
   "source": [
    "Those rare words at the bottom are pure nonsense. Let's find a frequency threshold that leads to reasonable words."
   ]
  },
  {
   "cell_type": "code",
   "execution_count": 4,
   "metadata": {},
   "outputs": [
    {
     "data": {
      "text/html": [
       "<div>\n",
       "<style scoped>\n",
       "    .dataframe tbody tr th:only-of-type {\n",
       "        vertical-align: middle;\n",
       "    }\n",
       "\n",
       "    .dataframe tbody tr th {\n",
       "        vertical-align: top;\n",
       "    }\n",
       "\n",
       "    .dataframe thead th {\n",
       "        text-align: right;\n",
       "    }\n",
       "</style>\n",
       "<table border=\"1\" class=\"dataframe\">\n",
       "  <thead>\n",
       "    <tr style=\"text-align: right;\">\n",
       "      <th></th>\n",
       "      <th>word</th>\n",
       "      <th>count</th>\n",
       "      <th>freq</th>\n",
       "    </tr>\n",
       "  </thead>\n",
       "  <tbody>\n",
       "    <tr>\n",
       "      <th>35</th>\n",
       "      <td>about</td>\n",
       "      <td>1226734006</td>\n",
       "      <td>0.002086</td>\n",
       "    </tr>\n",
       "    <tr>\n",
       "      <th>45</th>\n",
       "      <td>other</td>\n",
       "      <td>978481319</td>\n",
       "      <td>0.001664</td>\n",
       "    </tr>\n",
       "    <tr>\n",
       "      <th>56</th>\n",
       "      <td>which</td>\n",
       "      <td>810514085</td>\n",
       "      <td>0.001378</td>\n",
       "    </tr>\n",
       "    <tr>\n",
       "      <th>57</th>\n",
       "      <td>their</td>\n",
       "      <td>782849411</td>\n",
       "      <td>0.001331</td>\n",
       "    </tr>\n",
       "    <tr>\n",
       "      <th>62</th>\n",
       "      <td>there</td>\n",
       "      <td>701170205</td>\n",
       "      <td>0.001192</td>\n",
       "    </tr>\n",
       "  </tbody>\n",
       "</table>\n",
       "</div>"
      ],
      "text/plain": [
       "     word       count      freq\n",
       "35  about  1226734006  0.002086\n",
       "45  other   978481319  0.001664\n",
       "56  which   810514085  0.001378\n",
       "57  their   782849411  0.001331\n",
       "62  there   701170205  0.001192"
      ]
     },
     "execution_count": 4,
     "metadata": {},
     "output_type": "execute_result"
    }
   ],
   "source": [
    "five_word[five_word[\"freq\"] > 1e-3]"
   ]
  },
  {
   "cell_type": "code",
   "execution_count": 5,
   "metadata": {},
   "outputs": [
    {
     "data": {
      "text/html": [
       "<div>\n",
       "<style scoped>\n",
       "    .dataframe tbody tr th:only-of-type {\n",
       "        vertical-align: middle;\n",
       "    }\n",
       "\n",
       "    .dataframe tbody tr th {\n",
       "        vertical-align: top;\n",
       "    }\n",
       "\n",
       "    .dataframe thead th {\n",
       "        text-align: right;\n",
       "    }\n",
       "</style>\n",
       "<table border=\"1\" class=\"dataframe\">\n",
       "  <thead>\n",
       "    <tr style=\"text-align: right;\">\n",
       "      <th></th>\n",
       "      <th>word</th>\n",
       "      <th>count</th>\n",
       "      <th>freq</th>\n",
       "    </tr>\n",
       "  </thead>\n",
       "  <tbody>\n",
       "    <tr>\n",
       "      <th>35</th>\n",
       "      <td>about</td>\n",
       "      <td>1226734006</td>\n",
       "      <td>2.085842e-03</td>\n",
       "    </tr>\n",
       "    <tr>\n",
       "      <th>45</th>\n",
       "      <td>other</td>\n",
       "      <td>978481319</td>\n",
       "      <td>1.663732e-03</td>\n",
       "    </tr>\n",
       "    <tr>\n",
       "      <th>56</th>\n",
       "      <td>which</td>\n",
       "      <td>810514085</td>\n",
       "      <td>1.378134e-03</td>\n",
       "    </tr>\n",
       "    <tr>\n",
       "      <th>57</th>\n",
       "      <td>their</td>\n",
       "      <td>782849411</td>\n",
       "      <td>1.331095e-03</td>\n",
       "    </tr>\n",
       "    <tr>\n",
       "      <th>62</th>\n",
       "      <td>there</td>\n",
       "      <td>701170205</td>\n",
       "      <td>1.192214e-03</td>\n",
       "    </tr>\n",
       "    <tr>\n",
       "      <th>...</th>\n",
       "      <td>...</td>\n",
       "      <td>...</td>\n",
       "      <td>...</td>\n",
       "    </tr>\n",
       "    <tr>\n",
       "      <th>135370</th>\n",
       "      <td>broer</td>\n",
       "      <td>58833</td>\n",
       "      <td>1.000350e-07</td>\n",
       "    </tr>\n",
       "    <tr>\n",
       "      <th>135373</th>\n",
       "      <td>horak</td>\n",
       "      <td>58831</td>\n",
       "      <td>1.000316e-07</td>\n",
       "    </tr>\n",
       "    <tr>\n",
       "      <th>135383</th>\n",
       "      <td>charo</td>\n",
       "      <td>58827</td>\n",
       "      <td>1.000248e-07</td>\n",
       "    </tr>\n",
       "    <tr>\n",
       "      <th>135385</th>\n",
       "      <td>knive</td>\n",
       "      <td>58824</td>\n",
       "      <td>1.000197e-07</td>\n",
       "    </tr>\n",
       "    <tr>\n",
       "      <th>135395</th>\n",
       "      <td>rbocs</td>\n",
       "      <td>58816</td>\n",
       "      <td>1.000061e-07</td>\n",
       "    </tr>\n",
       "  </tbody>\n",
       "</table>\n",
       "<p>15986 rows × 3 columns</p>\n",
       "</div>"
      ],
      "text/plain": [
       "         word       count          freq\n",
       "35      about  1226734006  2.085842e-03\n",
       "45      other   978481319  1.663732e-03\n",
       "56      which   810514085  1.378134e-03\n",
       "57      their   782849411  1.331095e-03\n",
       "62      there   701170205  1.192214e-03\n",
       "...       ...         ...           ...\n",
       "135370  broer       58833  1.000350e-07\n",
       "135373  horak       58831  1.000316e-07\n",
       "135383  charo       58827  1.000248e-07\n",
       "135385  knive       58824  1.000197e-07\n",
       "135395  rbocs       58816  1.000061e-07\n",
       "\n",
       "[15986 rows x 3 columns]"
      ]
     },
     "execution_count": 5,
     "metadata": {},
     "output_type": "execute_result"
    }
   ],
   "source": [
    "five_word[five_word[\"freq\"] > 1e-7]"
   ]
  },
  {
   "cell_type": "code",
   "execution_count": 6,
   "metadata": {},
   "outputs": [
    {
     "data": {
      "text/html": [
       "<div>\n",
       "<style scoped>\n",
       "    .dataframe tbody tr th:only-of-type {\n",
       "        vertical-align: middle;\n",
       "    }\n",
       "\n",
       "    .dataframe tbody tr th {\n",
       "        vertical-align: top;\n",
       "    }\n",
       "\n",
       "    .dataframe thead th {\n",
       "        text-align: right;\n",
       "    }\n",
       "</style>\n",
       "<table border=\"1\" class=\"dataframe\">\n",
       "  <thead>\n",
       "    <tr style=\"text-align: right;\">\n",
       "      <th></th>\n",
       "      <th>word</th>\n",
       "      <th>count</th>\n",
       "      <th>freq</th>\n",
       "    </tr>\n",
       "  </thead>\n",
       "  <tbody>\n",
       "    <tr>\n",
       "      <th>35</th>\n",
       "      <td>about</td>\n",
       "      <td>1226734006</td>\n",
       "      <td>0.002086</td>\n",
       "    </tr>\n",
       "    <tr>\n",
       "      <th>45</th>\n",
       "      <td>other</td>\n",
       "      <td>978481319</td>\n",
       "      <td>0.001664</td>\n",
       "    </tr>\n",
       "    <tr>\n",
       "      <th>56</th>\n",
       "      <td>which</td>\n",
       "      <td>810514085</td>\n",
       "      <td>0.001378</td>\n",
       "    </tr>\n",
       "    <tr>\n",
       "      <th>57</th>\n",
       "      <td>their</td>\n",
       "      <td>782849411</td>\n",
       "      <td>0.001331</td>\n",
       "    </tr>\n",
       "    <tr>\n",
       "      <th>62</th>\n",
       "      <td>there</td>\n",
       "      <td>701170205</td>\n",
       "      <td>0.001192</td>\n",
       "    </tr>\n",
       "    <tr>\n",
       "      <th>...</th>\n",
       "      <td>...</td>\n",
       "      <td>...</td>\n",
       "      <td>...</td>\n",
       "    </tr>\n",
       "    <tr>\n",
       "      <th>1366</th>\n",
       "      <td>award</td>\n",
       "      <td>59652161</td>\n",
       "      <td>0.000101</td>\n",
       "    </tr>\n",
       "    <tr>\n",
       "      <th>1369</th>\n",
       "      <td>peter</td>\n",
       "      <td>59541743</td>\n",
       "      <td>0.000101</td>\n",
       "    </tr>\n",
       "    <tr>\n",
       "      <th>1377</th>\n",
       "      <td>extra</td>\n",
       "      <td>59377307</td>\n",
       "      <td>0.000101</td>\n",
       "    </tr>\n",
       "    <tr>\n",
       "      <th>1380</th>\n",
       "      <td>pussy</td>\n",
       "      <td>59206591</td>\n",
       "      <td>0.000101</td>\n",
       "    </tr>\n",
       "    <tr>\n",
       "      <th>1383</th>\n",
       "      <td>rated</td>\n",
       "      <td>59102029</td>\n",
       "      <td>0.000100</td>\n",
       "    </tr>\n",
       "  </tbody>\n",
       "</table>\n",
       "<p>251 rows × 3 columns</p>\n",
       "</div>"
      ],
      "text/plain": [
       "       word       count      freq\n",
       "35    about  1226734006  0.002086\n",
       "45    other   978481319  0.001664\n",
       "56    which   810514085  0.001378\n",
       "57    their   782849411  0.001331\n",
       "62    there   701170205  0.001192\n",
       "...     ...         ...       ...\n",
       "1366  award    59652161  0.000101\n",
       "1369  peter    59541743  0.000101\n",
       "1377  extra    59377307  0.000101\n",
       "1380  pussy    59206591  0.000101\n",
       "1383  rated    59102029  0.000100\n",
       "\n",
       "[251 rows x 3 columns]"
      ]
     },
     "execution_count": 6,
     "metadata": {},
     "output_type": "execute_result"
    }
   ],
   "source": [
    "five_word[five_word[\"freq\"] > 1e-4]"
   ]
  },
  {
   "cell_type": "code",
   "execution_count": 7,
   "metadata": {},
   "outputs": [
    {
     "data": {
      "text/html": [
       "<div>\n",
       "<style scoped>\n",
       "    .dataframe tbody tr th:only-of-type {\n",
       "        vertical-align: middle;\n",
       "    }\n",
       "\n",
       "    .dataframe tbody tr th {\n",
       "        vertical-align: top;\n",
       "    }\n",
       "\n",
       "    .dataframe thead th {\n",
       "        text-align: right;\n",
       "    }\n",
       "</style>\n",
       "<table border=\"1\" class=\"dataframe\">\n",
       "  <thead>\n",
       "    <tr style=\"text-align: right;\">\n",
       "      <th></th>\n",
       "      <th>word</th>\n",
       "      <th>count</th>\n",
       "      <th>freq</th>\n",
       "    </tr>\n",
       "  </thead>\n",
       "  <tbody>\n",
       "    <tr>\n",
       "      <th>35</th>\n",
       "      <td>about</td>\n",
       "      <td>1226734006</td>\n",
       "      <td>0.002086</td>\n",
       "    </tr>\n",
       "    <tr>\n",
       "      <th>45</th>\n",
       "      <td>other</td>\n",
       "      <td>978481319</td>\n",
       "      <td>0.001664</td>\n",
       "    </tr>\n",
       "    <tr>\n",
       "      <th>56</th>\n",
       "      <td>which</td>\n",
       "      <td>810514085</td>\n",
       "      <td>0.001378</td>\n",
       "    </tr>\n",
       "    <tr>\n",
       "      <th>57</th>\n",
       "      <td>their</td>\n",
       "      <td>782849411</td>\n",
       "      <td>0.001331</td>\n",
       "    </tr>\n",
       "    <tr>\n",
       "      <th>62</th>\n",
       "      <td>there</td>\n",
       "      <td>701170205</td>\n",
       "      <td>0.001192</td>\n",
       "    </tr>\n",
       "    <tr>\n",
       "      <th>...</th>\n",
       "      <td>...</td>\n",
       "      <td>...</td>\n",
       "      <td>...</td>\n",
       "    </tr>\n",
       "    <tr>\n",
       "      <th>35873</th>\n",
       "      <td>mauve</td>\n",
       "      <td>589931</td>\n",
       "      <td>0.000001</td>\n",
       "    </tr>\n",
       "    <tr>\n",
       "      <th>35892</th>\n",
       "      <td>spore</td>\n",
       "      <td>589081</td>\n",
       "      <td>0.000001</td>\n",
       "    </tr>\n",
       "    <tr>\n",
       "      <th>35897</th>\n",
       "      <td>tessa</td>\n",
       "      <td>588993</td>\n",
       "      <td>0.000001</td>\n",
       "    </tr>\n",
       "    <tr>\n",
       "      <th>35903</th>\n",
       "      <td>crept</td>\n",
       "      <td>588735</td>\n",
       "      <td>0.000001</td>\n",
       "    </tr>\n",
       "    <tr>\n",
       "      <th>35915</th>\n",
       "      <td>dvdrw</td>\n",
       "      <td>588248</td>\n",
       "      <td>0.000001</td>\n",
       "    </tr>\n",
       "  </tbody>\n",
       "</table>\n",
       "<p>4288 rows × 3 columns</p>\n",
       "</div>"
      ],
      "text/plain": [
       "        word       count      freq\n",
       "35     about  1226734006  0.002086\n",
       "45     other   978481319  0.001664\n",
       "56     which   810514085  0.001378\n",
       "57     their   782849411  0.001331\n",
       "62     there   701170205  0.001192\n",
       "...      ...         ...       ...\n",
       "35873  mauve      589931  0.000001\n",
       "35892  spore      589081  0.000001\n",
       "35897  tessa      588993  0.000001\n",
       "35903  crept      588735  0.000001\n",
       "35915  dvdrw      588248  0.000001\n",
       "\n",
       "[4288 rows x 3 columns]"
      ]
     },
     "execution_count": 7,
     "metadata": {},
     "output_type": "execute_result"
    }
   ],
   "source": [
    "five_word[five_word[\"freq\"] > 1e-6]"
   ]
  },
  {
   "cell_type": "code",
   "execution_count": 8,
   "metadata": {},
   "outputs": [
    {
     "data": {
      "text/html": [
       "<div>\n",
       "<style scoped>\n",
       "    .dataframe tbody tr th:only-of-type {\n",
       "        vertical-align: middle;\n",
       "    }\n",
       "\n",
       "    .dataframe tbody tr th {\n",
       "        vertical-align: top;\n",
       "    }\n",
       "\n",
       "    .dataframe thead th {\n",
       "        text-align: right;\n",
       "    }\n",
       "</style>\n",
       "<table border=\"1\" class=\"dataframe\">\n",
       "  <thead>\n",
       "    <tr style=\"text-align: right;\">\n",
       "      <th></th>\n",
       "      <th>word</th>\n",
       "      <th>count</th>\n",
       "      <th>freq</th>\n",
       "    </tr>\n",
       "  </thead>\n",
       "  <tbody>\n",
       "    <tr>\n",
       "      <th>35</th>\n",
       "      <td>about</td>\n",
       "      <td>1226734006</td>\n",
       "      <td>0.002086</td>\n",
       "    </tr>\n",
       "    <tr>\n",
       "      <th>45</th>\n",
       "      <td>other</td>\n",
       "      <td>978481319</td>\n",
       "      <td>0.001664</td>\n",
       "    </tr>\n",
       "    <tr>\n",
       "      <th>56</th>\n",
       "      <td>which</td>\n",
       "      <td>810514085</td>\n",
       "      <td>0.001378</td>\n",
       "    </tr>\n",
       "    <tr>\n",
       "      <th>57</th>\n",
       "      <td>their</td>\n",
       "      <td>782849411</td>\n",
       "      <td>0.001331</td>\n",
       "    </tr>\n",
       "    <tr>\n",
       "      <th>62</th>\n",
       "      <td>there</td>\n",
       "      <td>701170205</td>\n",
       "      <td>0.001192</td>\n",
       "    </tr>\n",
       "    <tr>\n",
       "      <th>...</th>\n",
       "      <td>...</td>\n",
       "      <td>...</td>\n",
       "      <td>...</td>\n",
       "    </tr>\n",
       "    <tr>\n",
       "      <th>9026</th>\n",
       "      <td>shark</td>\n",
       "      <td>5904454</td>\n",
       "      <td>0.000010</td>\n",
       "    </tr>\n",
       "    <tr>\n",
       "      <th>9034</th>\n",
       "      <td>grows</td>\n",
       "      <td>5899321</td>\n",
       "      <td>0.000010</td>\n",
       "    </tr>\n",
       "    <tr>\n",
       "      <th>9035</th>\n",
       "      <td>cliff</td>\n",
       "      <td>5898886</td>\n",
       "      <td>0.000010</td>\n",
       "    </tr>\n",
       "    <tr>\n",
       "      <th>9037</th>\n",
       "      <td>tract</td>\n",
       "      <td>5897046</td>\n",
       "      <td>0.000010</td>\n",
       "    </tr>\n",
       "    <tr>\n",
       "      <th>9050</th>\n",
       "      <td>shine</td>\n",
       "      <td>5881862</td>\n",
       "      <td>0.000010</td>\n",
       "    </tr>\n",
       "  </tbody>\n",
       "</table>\n",
       "<p>1256 rows × 3 columns</p>\n",
       "</div>"
      ],
      "text/plain": [
       "       word       count      freq\n",
       "35    about  1226734006  0.002086\n",
       "45    other   978481319  0.001664\n",
       "56    which   810514085  0.001378\n",
       "57    their   782849411  0.001331\n",
       "62    there   701170205  0.001192\n",
       "...     ...         ...       ...\n",
       "9026  shark     5904454  0.000010\n",
       "9034  grows     5899321  0.000010\n",
       "9035  cliff     5898886  0.000010\n",
       "9037  tract     5897046  0.000010\n",
       "9050  shine     5881862  0.000010\n",
       "\n",
       "[1256 rows x 3 columns]"
      ]
     },
     "execution_count": 8,
     "metadata": {},
     "output_type": "execute_result"
    }
   ],
   "source": [
    "five_word[five_word[\"freq\"] > 1e-5]"
   ]
  },
  {
   "cell_type": "code",
   "execution_count": 9,
   "metadata": {},
   "outputs": [
    {
     "data": {
      "text/html": [
       "<div>\n",
       "<style scoped>\n",
       "    .dataframe tbody tr th:only-of-type {\n",
       "        vertical-align: middle;\n",
       "    }\n",
       "\n",
       "    .dataframe tbody tr th {\n",
       "        vertical-align: top;\n",
       "    }\n",
       "\n",
       "    .dataframe thead th {\n",
       "        text-align: right;\n",
       "    }\n",
       "</style>\n",
       "<table border=\"1\" class=\"dataframe\">\n",
       "  <thead>\n",
       "    <tr style=\"text-align: right;\">\n",
       "      <th></th>\n",
       "      <th>word</th>\n",
       "      <th>count</th>\n",
       "      <th>freq</th>\n",
       "    </tr>\n",
       "  </thead>\n",
       "  <tbody>\n",
       "    <tr>\n",
       "      <th>35</th>\n",
       "      <td>about</td>\n",
       "      <td>1226734006</td>\n",
       "      <td>0.002086</td>\n",
       "    </tr>\n",
       "    <tr>\n",
       "      <th>45</th>\n",
       "      <td>other</td>\n",
       "      <td>978481319</td>\n",
       "      <td>0.001664</td>\n",
       "    </tr>\n",
       "    <tr>\n",
       "      <th>56</th>\n",
       "      <td>which</td>\n",
       "      <td>810514085</td>\n",
       "      <td>0.001378</td>\n",
       "    </tr>\n",
       "    <tr>\n",
       "      <th>57</th>\n",
       "      <td>their</td>\n",
       "      <td>782849411</td>\n",
       "      <td>0.001331</td>\n",
       "    </tr>\n",
       "    <tr>\n",
       "      <th>62</th>\n",
       "      <td>there</td>\n",
       "      <td>701170205</td>\n",
       "      <td>0.001192</td>\n",
       "    </tr>\n",
       "    <tr>\n",
       "      <th>...</th>\n",
       "      <td>...</td>\n",
       "      <td>...</td>\n",
       "      <td>...</td>\n",
       "    </tr>\n",
       "    <tr>\n",
       "      <th>15882</th>\n",
       "      <td>tenor</td>\n",
       "      <td>2361385</td>\n",
       "      <td>0.000004</td>\n",
       "    </tr>\n",
       "    <tr>\n",
       "      <th>15887</th>\n",
       "      <td>scrub</td>\n",
       "      <td>2360299</td>\n",
       "      <td>0.000004</td>\n",
       "    </tr>\n",
       "    <tr>\n",
       "      <th>15892</th>\n",
       "      <td>cello</td>\n",
       "      <td>2358848</td>\n",
       "      <td>0.000004</td>\n",
       "    </tr>\n",
       "    <tr>\n",
       "      <th>15904</th>\n",
       "      <td>caves</td>\n",
       "      <td>2355316</td>\n",
       "      <td>0.000004</td>\n",
       "    </tr>\n",
       "    <tr>\n",
       "      <th>15911</th>\n",
       "      <td>cocos</td>\n",
       "      <td>2354000</td>\n",
       "      <td>0.000004</td>\n",
       "    </tr>\n",
       "  </tbody>\n",
       "</table>\n",
       "<p>2089 rows × 3 columns</p>\n",
       "</div>"
      ],
      "text/plain": [
       "        word       count      freq\n",
       "35     about  1226734006  0.002086\n",
       "45     other   978481319  0.001664\n",
       "56     which   810514085  0.001378\n",
       "57     their   782849411  0.001331\n",
       "62     there   701170205  0.001192\n",
       "...      ...         ...       ...\n",
       "15882  tenor     2361385  0.000004\n",
       "15887  scrub     2360299  0.000004\n",
       "15892  cello     2358848  0.000004\n",
       "15904  caves     2355316  0.000004\n",
       "15911  cocos     2354000  0.000004\n",
       "\n",
       "[2089 rows x 3 columns]"
      ]
     },
     "execution_count": 9,
     "metadata": {},
     "output_type": "execute_result"
    }
   ],
   "source": [
    "five_word[five_word[\"freq\"] > 0.4e-5]"
   ]
  },
  {
   "cell_type": "markdown",
   "metadata": {},
   "source": [
    "This last one seems pretty reasonable for 5-letter word. Let's see if it works well-enough for general words, too."
   ]
  },
  {
   "cell_type": "code",
   "execution_count": 10,
   "metadata": {},
   "outputs": [
    {
     "data": {
      "text/html": [
       "<div>\n",
       "<style scoped>\n",
       "    .dataframe tbody tr th:only-of-type {\n",
       "        vertical-align: middle;\n",
       "    }\n",
       "\n",
       "    .dataframe tbody tr th {\n",
       "        vertical-align: top;\n",
       "    }\n",
       "\n",
       "    .dataframe thead th {\n",
       "        text-align: right;\n",
       "    }\n",
       "</style>\n",
       "<table border=\"1\" class=\"dataframe\">\n",
       "  <thead>\n",
       "    <tr style=\"text-align: right;\">\n",
       "      <th></th>\n",
       "      <th>word</th>\n",
       "      <th>count</th>\n",
       "      <th>freq</th>\n",
       "    </tr>\n",
       "  </thead>\n",
       "  <tbody>\n",
       "    <tr>\n",
       "      <th>0</th>\n",
       "      <td>the</td>\n",
       "      <td>23135851162</td>\n",
       "      <td>0.039338</td>\n",
       "    </tr>\n",
       "    <tr>\n",
       "      <th>1</th>\n",
       "      <td>of</td>\n",
       "      <td>13151942776</td>\n",
       "      <td>0.022363</td>\n",
       "    </tr>\n",
       "    <tr>\n",
       "      <th>2</th>\n",
       "      <td>and</td>\n",
       "      <td>12997637966</td>\n",
       "      <td>0.022100</td>\n",
       "    </tr>\n",
       "    <tr>\n",
       "      <th>3</th>\n",
       "      <td>to</td>\n",
       "      <td>12136980858</td>\n",
       "      <td>0.020637</td>\n",
       "    </tr>\n",
       "    <tr>\n",
       "      <th>4</th>\n",
       "      <td>a</td>\n",
       "      <td>9081174698</td>\n",
       "      <td>0.015441</td>\n",
       "    </tr>\n",
       "    <tr>\n",
       "      <th>...</th>\n",
       "      <td>...</td>\n",
       "      <td>...</td>\n",
       "      <td>...</td>\n",
       "    </tr>\n",
       "    <tr>\n",
       "      <th>15912</th>\n",
       "      <td>aiming</td>\n",
       "      <td>2353915</td>\n",
       "      <td>0.000004</td>\n",
       "    </tr>\n",
       "    <tr>\n",
       "      <th>15913</th>\n",
       "      <td>seizure</td>\n",
       "      <td>2353392</td>\n",
       "      <td>0.000004</td>\n",
       "    </tr>\n",
       "    <tr>\n",
       "      <th>15914</th>\n",
       "      <td>stuttgart</td>\n",
       "      <td>2353387</td>\n",
       "      <td>0.000004</td>\n",
       "    </tr>\n",
       "    <tr>\n",
       "      <th>15915</th>\n",
       "      <td>diplomacy</td>\n",
       "      <td>2352610</td>\n",
       "      <td>0.000004</td>\n",
       "    </tr>\n",
       "    <tr>\n",
       "      <th>15916</th>\n",
       "      <td>differing</td>\n",
       "      <td>2352534</td>\n",
       "      <td>0.000004</td>\n",
       "    </tr>\n",
       "  </tbody>\n",
       "</table>\n",
       "<p>15917 rows × 3 columns</p>\n",
       "</div>"
      ],
      "text/plain": [
       "            word        count      freq\n",
       "0            the  23135851162  0.039338\n",
       "1             of  13151942776  0.022363\n",
       "2            and  12997637966  0.022100\n",
       "3             to  12136980858  0.020637\n",
       "4              a   9081174698  0.015441\n",
       "...          ...          ...       ...\n",
       "15912     aiming      2353915  0.000004\n",
       "15913    seizure      2353392  0.000004\n",
       "15914  stuttgart      2353387  0.000004\n",
       "15915  diplomacy      2352610  0.000004\n",
       "15916  differing      2352534  0.000004\n",
       "\n",
       "[15917 rows x 3 columns]"
      ]
     },
     "execution_count": 10,
     "metadata": {},
     "output_type": "execute_result"
    }
   ],
   "source": [
    "data[data[\"freq\"] > 0.4e-5]"
   ]
  },
  {
   "cell_type": "markdown",
   "metadata": {},
   "source": [
    "Not bad."
   ]
  },
  {
   "cell_type": "markdown",
   "metadata": {},
   "source": [
    "Let's make sure all these words are made up of only letters."
   ]
  },
  {
   "cell_type": "code",
   "execution_count": 11,
   "metadata": {},
   "outputs": [
    {
     "data": {
      "text/plain": [
       "True"
      ]
     },
     "execution_count": 11,
     "metadata": {},
     "output_type": "execute_result"
    }
   ],
   "source": [
    "data[\"word\"].str.isalpha().all()"
   ]
  },
  {
   "cell_type": "markdown",
   "metadata": {},
   "source": [
    "How do we select a random word?"
   ]
  },
  {
   "cell_type": "code",
   "execution_count": 12,
   "metadata": {},
   "outputs": [
    {
     "data": {
      "text/plain": [
       "'saltbox'"
      ]
     },
     "execution_count": 12,
     "metadata": {},
     "output_type": "execute_result"
    }
   ],
   "source": [
    "data[\"word\"].sample(random_state=0).iloc[0]"
   ]
  },
  {
   "cell_type": "markdown",
   "metadata": {},
   "source": [
    "How do we choose a different random number generator?"
   ]
  },
  {
   "cell_type": "code",
   "execution_count": 13,
   "metadata": {},
   "outputs": [
    {
     "name": "stdout",
     "output_type": "stream",
     "text": [
      "brests\n",
      "brests\n"
     ]
    }
   ],
   "source": [
    "print(data[\"word\"].sample(random_state=1).iloc[0])\n",
    "print(data[\"word\"].sample(random_state=1).iloc[0])"
   ]
  },
  {
   "cell_type": "code",
   "execution_count": 14,
   "metadata": {},
   "outputs": [
    {
     "data": {
      "text/plain": [
       "'higa'"
      ]
     },
     "execution_count": 14,
     "metadata": {},
     "output_type": "execute_result"
    }
   ],
   "source": [
    "data[\"word\"].sample(random_state=np.random.default_rng(1)).iloc[0]"
   ]
  },
  {
   "cell_type": "markdown",
   "metadata": {},
   "source": [
    "## Words from our chosen dictionary"
   ]
  },
  {
   "cell_type": "code",
   "execution_count": 15,
   "metadata": {},
   "outputs": [],
   "source": [
    "db = pd.read_csv(os.path.join(data_path, \"dictionary.csv\"))"
   ]
  },
  {
   "cell_type": "code",
   "execution_count": 16,
   "metadata": {},
   "outputs": [
    {
     "data": {
      "text/html": [
       "<div>\n",
       "<style scoped>\n",
       "    .dataframe tbody tr th:only-of-type {\n",
       "        vertical-align: middle;\n",
       "    }\n",
       "\n",
       "    .dataframe tbody tr th {\n",
       "        vertical-align: top;\n",
       "    }\n",
       "\n",
       "    .dataframe thead th {\n",
       "        text-align: right;\n",
       "    }\n",
       "</style>\n",
       "<table border=\"1\" class=\"dataframe\">\n",
       "  <thead>\n",
       "    <tr style=\"text-align: right;\">\n",
       "      <th></th>\n",
       "      <th>word</th>\n",
       "      <th>count</th>\n",
       "      <th>freq</th>\n",
       "    </tr>\n",
       "  </thead>\n",
       "  <tbody>\n",
       "    <tr>\n",
       "      <th>0</th>\n",
       "      <td>the</td>\n",
       "      <td>2.313585e+10</td>\n",
       "      <td>0.039338</td>\n",
       "    </tr>\n",
       "    <tr>\n",
       "      <th>1</th>\n",
       "      <td>of</td>\n",
       "      <td>1.315194e+10</td>\n",
       "      <td>0.022363</td>\n",
       "    </tr>\n",
       "    <tr>\n",
       "      <th>2</th>\n",
       "      <td>and</td>\n",
       "      <td>1.299764e+10</td>\n",
       "      <td>0.022100</td>\n",
       "    </tr>\n",
       "    <tr>\n",
       "      <th>3</th>\n",
       "      <td>to</td>\n",
       "      <td>1.213698e+10</td>\n",
       "      <td>0.020637</td>\n",
       "    </tr>\n",
       "    <tr>\n",
       "      <th>4</th>\n",
       "      <td>in</td>\n",
       "      <td>8.469405e+09</td>\n",
       "      <td>0.014401</td>\n",
       "    </tr>\n",
       "    <tr>\n",
       "      <th>...</th>\n",
       "      <td>...</td>\n",
       "      <td>...</td>\n",
       "      <td>...</td>\n",
       "    </tr>\n",
       "    <tr>\n",
       "      <th>279493</th>\n",
       "      <td>zythum</td>\n",
       "      <td>NaN</td>\n",
       "      <td>NaN</td>\n",
       "    </tr>\n",
       "    <tr>\n",
       "      <th>279494</th>\n",
       "      <td>zythums</td>\n",
       "      <td>NaN</td>\n",
       "      <td>NaN</td>\n",
       "    </tr>\n",
       "    <tr>\n",
       "      <th>279495</th>\n",
       "      <td>zyzzyva</td>\n",
       "      <td>NaN</td>\n",
       "      <td>NaN</td>\n",
       "    </tr>\n",
       "    <tr>\n",
       "      <th>279496</th>\n",
       "      <td>zyzzyvas</td>\n",
       "      <td>NaN</td>\n",
       "      <td>NaN</td>\n",
       "    </tr>\n",
       "    <tr>\n",
       "      <th>279497</th>\n",
       "      <td>zzzs</td>\n",
       "      <td>NaN</td>\n",
       "      <td>NaN</td>\n",
       "    </tr>\n",
       "  </tbody>\n",
       "</table>\n",
       "<p>279498 rows × 3 columns</p>\n",
       "</div>"
      ],
      "text/plain": [
       "            word         count      freq\n",
       "0            the  2.313585e+10  0.039338\n",
       "1             of  1.315194e+10  0.022363\n",
       "2            and  1.299764e+10  0.022100\n",
       "3             to  1.213698e+10  0.020637\n",
       "4             in  8.469405e+09  0.014401\n",
       "...          ...           ...       ...\n",
       "279493    zythum           NaN       NaN\n",
       "279494   zythums           NaN       NaN\n",
       "279495   zyzzyva           NaN       NaN\n",
       "279496  zyzzyvas           NaN       NaN\n",
       "279497      zzzs           NaN       NaN\n",
       "\n",
       "[279498 rows x 3 columns]"
      ]
     },
     "execution_count": 16,
     "metadata": {},
     "output_type": "execute_result"
    }
   ],
   "source": [
    "db"
   ]
  },
  {
   "cell_type": "markdown",
   "metadata": {},
   "source": [
    "### Let's look at some stats"
   ]
  },
  {
   "cell_type": "code",
   "execution_count": 17,
   "metadata": {},
   "outputs": [],
   "source": [
    "db_five = db[db.word.str.len() == 5]"
   ]
  },
  {
   "cell_type": "code",
   "execution_count": 18,
   "metadata": {},
   "outputs": [
    {
     "data": {
      "text/html": [
       "<div>\n",
       "<style scoped>\n",
       "    .dataframe tbody tr th:only-of-type {\n",
       "        vertical-align: middle;\n",
       "    }\n",
       "\n",
       "    .dataframe tbody tr th {\n",
       "        vertical-align: top;\n",
       "    }\n",
       "\n",
       "    .dataframe thead th {\n",
       "        text-align: right;\n",
       "    }\n",
       "</style>\n",
       "<table border=\"1\" class=\"dataframe\">\n",
       "  <thead>\n",
       "    <tr style=\"text-align: right;\">\n",
       "      <th></th>\n",
       "      <th>word</th>\n",
       "      <th>count</th>\n",
       "      <th>freq</th>\n",
       "    </tr>\n",
       "  </thead>\n",
       "  <tbody>\n",
       "    <tr>\n",
       "      <th>33</th>\n",
       "      <td>about</td>\n",
       "      <td>1.226734e+09</td>\n",
       "      <td>0.002086</td>\n",
       "    </tr>\n",
       "    <tr>\n",
       "      <th>43</th>\n",
       "      <td>other</td>\n",
       "      <td>9.784813e+08</td>\n",
       "      <td>0.001664</td>\n",
       "    </tr>\n",
       "    <tr>\n",
       "      <th>54</th>\n",
       "      <td>which</td>\n",
       "      <td>8.105141e+08</td>\n",
       "      <td>0.001378</td>\n",
       "    </tr>\n",
       "    <tr>\n",
       "      <th>55</th>\n",
       "      <td>their</td>\n",
       "      <td>7.828494e+08</td>\n",
       "      <td>0.001331</td>\n",
       "    </tr>\n",
       "    <tr>\n",
       "      <th>60</th>\n",
       "      <td>there</td>\n",
       "      <td>7.011702e+08</td>\n",
       "      <td>0.001192</td>\n",
       "    </tr>\n",
       "    <tr>\n",
       "      <th>...</th>\n",
       "      <td>...</td>\n",
       "      <td>...</td>\n",
       "      <td>...</td>\n",
       "    </tr>\n",
       "    <tr>\n",
       "      <th>279356</th>\n",
       "      <td>zowee</td>\n",
       "      <td>NaN</td>\n",
       "      <td>NaN</td>\n",
       "    </tr>\n",
       "    <tr>\n",
       "      <th>279378</th>\n",
       "      <td>zupas</td>\n",
       "      <td>NaN</td>\n",
       "      <td>NaN</td>\n",
       "    </tr>\n",
       "    <tr>\n",
       "      <th>279381</th>\n",
       "      <td>zurfs</td>\n",
       "      <td>NaN</td>\n",
       "      <td>NaN</td>\n",
       "    </tr>\n",
       "    <tr>\n",
       "      <th>279383</th>\n",
       "      <td>zuzim</td>\n",
       "      <td>NaN</td>\n",
       "      <td>NaN</td>\n",
       "    </tr>\n",
       "    <tr>\n",
       "      <th>279397</th>\n",
       "      <td>zygal</td>\n",
       "      <td>NaN</td>\n",
       "      <td>NaN</td>\n",
       "    </tr>\n",
       "  </tbody>\n",
       "</table>\n",
       "<p>12972 rows × 3 columns</p>\n",
       "</div>"
      ],
      "text/plain": [
       "         word         count      freq\n",
       "33      about  1.226734e+09  0.002086\n",
       "43      other  9.784813e+08  0.001664\n",
       "54      which  8.105141e+08  0.001378\n",
       "55      their  7.828494e+08  0.001331\n",
       "60      there  7.011702e+08  0.001192\n",
       "...       ...           ...       ...\n",
       "279356  zowee           NaN       NaN\n",
       "279378  zupas           NaN       NaN\n",
       "279381  zurfs           NaN       NaN\n",
       "279383  zuzim           NaN       NaN\n",
       "279397  zygal           NaN       NaN\n",
       "\n",
       "[12972 rows x 3 columns]"
      ]
     },
     "execution_count": 18,
     "metadata": {},
     "output_type": "execute_result"
    }
   ],
   "source": [
    "db_five"
   ]
  },
  {
   "cell_type": "code",
   "execution_count": 19,
   "metadata": {},
   "outputs": [],
   "source": [
    "letter_counts = [np.zeros(len(ascii_lowercase)) for _ in range(5)]\n",
    "letter_freq = [np.zeros(len(ascii_lowercase)) for _ in range(5)]\n",
    "for i in range(5):\n",
    "    crt_slice = db_five[\"word\"].str.slice(i, i + 1)\n",
    "    for k, ch in enumerate(ascii_lowercase):\n",
    "        letter_counts[i][k] = (crt_slice == ch).sum()\n",
    "    \n",
    "    letter_freq[i] = letter_counts[i] / np.sum(letter_counts[i])"
   ]
  },
  {
   "cell_type": "markdown",
   "metadata": {},
   "source": [
    "All the positions are rather different, with the first one perhaps being the most diverse."
   ]
  },
  {
   "cell_type": "code",
   "execution_count": 20,
   "metadata": {},
   "outputs": [
    {
     "data": {
      "image/png": "[encoded data removed]",
      "text/plain": [
       "<Figure size 1080x144 with 5 Axes>"
      ]
     },
     "metadata": {
      "image/png": {
       "height": 149,
       "width": 851
      },
      "needs_background": "light"
     },
     "output_type": "display_data"
    }
   ],
   "source": [
    "fig, axs = plt.subplots(1, 5, figsize=(15, 2))\n",
    "for i, ax in enumerate(axs):\n",
    "    ax.bar(np.arange(len(ascii_lowercase)), letter_freq[i])\n",
    "    ax.set_xticks(np.arange(len(ascii_lowercase)))\n",
    "    ax.set_xticklabels(ascii_lowercase)\n",
    "    ax.set_yticks([])\n",
    "    sns.despine(ax=ax, left=True, offset=10)"
   ]
  },
  {
   "cell_type": "markdown",
   "metadata": {},
   "source": [
    "Overall letter frequency."
   ]
  },
  {
   "cell_type": "code",
   "execution_count": 21,
   "metadata": {},
   "outputs": [
    {
     "data": {
      "image/png": "[encoded data removed]",
      "text/plain": [
       "<Figure size 432x288 with 1 Axes>"
      ]
     },
     "metadata": {
      "image/png": {
       "height": 258,
       "width": 349
      },
      "needs_background": "light"
     },
     "output_type": "display_data"
    }
   ],
   "source": [
    "fig, ax = plt.subplots()\n",
    "overall_freq = np.mean(letter_freq, axis=0)\n",
    "ax.bar(np.arange(len(ascii_lowercase)), overall_freq)\n",
    "ax.set_xticks(np.arange(len(ascii_lowercase)))\n",
    "ax.set_xticklabels(ascii_lowercase)\n",
    "ax.set_yticks([])\n",
    "sns.despine(ax=ax, left=True, offset=10)"
   ]
  },
  {
   "cell_type": "markdown",
   "metadata": {},
   "source": [
    "Most common letters by position:"
   ]
  },
  {
   "cell_type": "code",
   "execution_count": 22,
   "metadata": {},
   "outputs": [
    {
     "data": {
      "text/plain": [
       "['s', 'a', 'a', 'e', 's']"
      ]
     },
     "execution_count": 22,
     "metadata": {},
     "output_type": "execute_result"
    }
   ],
   "source": [
    "[ascii_lowercase[np.argmax(letter_freq[_])] for _ in range(5)]"
   ]
  },
  {
   "cell_type": "markdown",
   "metadata": {},
   "source": [
    "10 most common letters overall:"
   ]
  },
  {
   "cell_type": "code",
   "execution_count": 23,
   "metadata": {},
   "outputs": [
    {
     "data": {
      "text/plain": [
       "{'s': 0.10275979031760715,\n",
       " 'e': 0.10271353684859699,\n",
       " 'a': 0.09235275979031762,\n",
       " 'o': 0.06842429848905333,\n",
       " 'r': 0.0641073080481036,\n",
       " 'i': 0.05795559666975023,\n",
       " 'l': 0.05197348134443417,\n",
       " 't': 0.05080172679617638,\n",
       " 'n': 0.04551341350601294,\n",
       " 'u': 0.03871415356151712}"
      ]
     },
     "execution_count": 23,
     "metadata": {},
     "output_type": "execute_result"
    }
   ],
   "source": [
    "{ascii_lowercase[_]: overall_freq[_] for _ in np.argsort(overall_freq)[::-1][:10]}"
   ]
  },
  {
   "cell_type": "markdown",
   "metadata": {},
   "source": [
    "This suggests that `raise` would be a good starting word. It contains all of the most common letters at each position (though not matching that position); and it contains 5 out of the 6 most common letters overall."
   ]
  },
  {
   "cell_type": "markdown",
   "metadata": {},
   "source": [
    "### Find the most informative first word"
   ]
  },
  {
   "cell_type": "markdown",
   "metadata": {},
   "source": [
    "That is, find the word that leads to the greatest reduction in the number of remaining possibilities."
   ]
  },
  {
   "cell_type": "markdown",
   "metadata": {},
   "source": [
    "We need to precalculate some things to make this feasible."
   ]
  },
  {
   "cell_type": "code",
   "execution_count": 24,
   "metadata": {},
   "outputs": [],
   "source": [
    "# assume that only the highest-frequency words can be target words\n",
    "db_target = db_five.sort_values(\"freq\", ascending=False).iloc[:3000]"
   ]
  },
  {
   "cell_type": "code",
   "execution_count": 25,
   "metadata": {},
   "outputs": [
    {
     "data": {
      "text/html": [
       "<div>\n",
       "<style scoped>\n",
       "    .dataframe tbody tr th:only-of-type {\n",
       "        vertical-align: middle;\n",
       "    }\n",
       "\n",
       "    .dataframe tbody tr th {\n",
       "        vertical-align: top;\n",
       "    }\n",
       "\n",
       "    .dataframe thead th {\n",
       "        text-align: right;\n",
       "    }\n",
       "</style>\n",
       "<table border=\"1\" class=\"dataframe\">\n",
       "  <thead>\n",
       "    <tr style=\"text-align: right;\">\n",
       "      <th></th>\n",
       "      <th>word</th>\n",
       "      <th>count</th>\n",
       "      <th>freq</th>\n",
       "    </tr>\n",
       "  </thead>\n",
       "  <tbody>\n",
       "    <tr>\n",
       "      <th>33</th>\n",
       "      <td>about</td>\n",
       "      <td>1.226734e+09</td>\n",
       "      <td>2.085842e-03</td>\n",
       "    </tr>\n",
       "    <tr>\n",
       "      <th>43</th>\n",
       "      <td>other</td>\n",
       "      <td>9.784813e+08</td>\n",
       "      <td>1.663732e-03</td>\n",
       "    </tr>\n",
       "    <tr>\n",
       "      <th>54</th>\n",
       "      <td>which</td>\n",
       "      <td>8.105141e+08</td>\n",
       "      <td>1.378134e-03</td>\n",
       "    </tr>\n",
       "    <tr>\n",
       "      <th>55</th>\n",
       "      <td>their</td>\n",
       "      <td>7.828494e+08</td>\n",
       "      <td>1.331095e-03</td>\n",
       "    </tr>\n",
       "    <tr>\n",
       "      <th>60</th>\n",
       "      <td>there</td>\n",
       "      <td>7.011702e+08</td>\n",
       "      <td>1.192214e-03</td>\n",
       "    </tr>\n",
       "    <tr>\n",
       "      <th>...</th>\n",
       "      <td>...</td>\n",
       "      <td>...</td>\n",
       "      <td>...</td>\n",
       "    </tr>\n",
       "    <tr>\n",
       "      <th>25361</th>\n",
       "      <td>mauve</td>\n",
       "      <td>5.899310e+05</td>\n",
       "      <td>1.003072e-06</td>\n",
       "    </tr>\n",
       "    <tr>\n",
       "      <th>25375</th>\n",
       "      <td>spore</td>\n",
       "      <td>5.890810e+05</td>\n",
       "      <td>1.001627e-06</td>\n",
       "    </tr>\n",
       "    <tr>\n",
       "      <th>25380</th>\n",
       "      <td>crept</td>\n",
       "      <td>5.887350e+05</td>\n",
       "      <td>1.001039e-06</td>\n",
       "    </tr>\n",
       "    <tr>\n",
       "      <th>25421</th>\n",
       "      <td>canna</td>\n",
       "      <td>5.861920e+05</td>\n",
       "      <td>9.967146e-07</td>\n",
       "    </tr>\n",
       "    <tr>\n",
       "      <th>25445</th>\n",
       "      <td>punks</td>\n",
       "      <td>5.850360e+05</td>\n",
       "      <td>9.947490e-07</td>\n",
       "    </tr>\n",
       "  </tbody>\n",
       "</table>\n",
       "<p>3000 rows × 3 columns</p>\n",
       "</div>"
      ],
      "text/plain": [
       "        word         count          freq\n",
       "33     about  1.226734e+09  2.085842e-03\n",
       "43     other  9.784813e+08  1.663732e-03\n",
       "54     which  8.105141e+08  1.378134e-03\n",
       "55     their  7.828494e+08  1.331095e-03\n",
       "60     there  7.011702e+08  1.192214e-03\n",
       "...      ...           ...           ...\n",
       "25361  mauve  5.899310e+05  1.003072e-06\n",
       "25375  spore  5.890810e+05  1.001627e-06\n",
       "25380  crept  5.887350e+05  1.001039e-06\n",
       "25421  canna  5.861920e+05  9.967146e-07\n",
       "25445  punks  5.850360e+05  9.947490e-07\n",
       "\n",
       "[3000 rows x 3 columns]"
      ]
     },
     "execution_count": 25,
     "metadata": {},
     "output_type": "execute_result"
    }
   ],
   "source": [
    "db_target"
   ]
  },
  {
   "cell_type": "code",
   "execution_count": 26,
   "metadata": {},
   "outputs": [
    {
     "name": "stderr",
     "output_type": "stream",
     "text": [
      "100%|██████████| 26/26 [00:00<00:00, 1160.05it/s]\n",
      "100%|██████████| 26/26 [00:00<00:00, 1207.78it/s]\n"
     ]
    }
   ],
   "source": [
    "n0 = len(db_five)\n",
    "\n",
    "# write the words in a 5-column matrix to improve access speed\n",
    "word_matrix = np.empty((n0, 5), dtype=\"S1\")\n",
    "for j in range(5):\n",
    "    word_matrix[:, j] = db_five.word.str.slice(j, j + 1)\n",
    "\n",
    "# generate masks for all the words that *do* contain a given letter\n",
    "contained_masks = {}\n",
    "for ch in tqdm.tqdm(ascii_lowercase):\n",
    "    crt_mask = np.zeros(n0, dtype=bool)\n",
    "    bch = bytes(ch, \"utf8\")\n",
    "    for j in range(5):\n",
    "        crt_mask = crt_mask | (word_matrix[:, j] == bch)\n",
    "    \n",
    "    contained_masks[ch] = crt_mask\n",
    "\n",
    "# generate masks for all the words that *do not* contain a given letter\n",
    "not_contained_masks = {}\n",
    "for ch in tqdm.tqdm(ascii_lowercase):\n",
    "    crt_mask = np.ones(n0, dtype=bool)\n",
    "    bch = bytes(ch, 'utf8')\n",
    "    for j in range(5):\n",
    "        crt_mask = crt_mask & (word_matrix[:, j] != bch)\n",
    "    \n",
    "    not_contained_masks[ch] = crt_mask"
   ]
  },
  {
   "cell_type": "code",
   "execution_count": 27,
   "metadata": {},
   "outputs": [
    {
     "name": "stderr",
     "output_type": "stream",
     "text": [
      "100%|██████████| 12972/12972 [1:13:08<00:00,  2.96it/s]  \n"
     ]
    }
   ],
   "source": [
    "crt_words = db_five.word\n",
    "crt_target_words = db_target.word\n",
    "\n",
    "n1 = len(crt_target_words)\n",
    "d_entropy = np.zeros((n0, n1))\n",
    "for i, word in enumerate(tqdm.tqdm(crt_words)):\n",
    "    # for every possible target, check how much the entropy is reduced by trying `word`\n",
    "    remaining = np.zeros(n1, dtype=int)\n",
    "    for j, target in enumerate(crt_target_words):\n",
    "        # start out with a mask that's all true\n",
    "        mask = np.ones(n0, dtype=bool)\n",
    "\n",
    "        # restrict by exact matches\n",
    "        exact_matches = \"\"\n",
    "        for k, (ch1, ch2) in enumerate(zip(word, target)):\n",
    "            if ch1 == ch2:\n",
    "                crt_mask = word_matrix[:, k] == bytes(ch1, \"utf-8\")\n",
    "                mask = mask & crt_mask\n",
    "                exact_matches += ch1\n",
    "        \n",
    "        # remove words with letters that we know are not in the target\n",
    "        for ch in set(word) - set(target):\n",
    "            mask = mask & not_contained_masks[ch]\n",
    "\n",
    "        # remove words that don't contain the letters we know should be contained\n",
    "        # no point in testing the exact matches again, though\n",
    "        for ch in (set(word) & set(target)) - set(exact_matches):\n",
    "            mask = mask & contained_masks[ch]\n",
    "\n",
    "        remaining[j] = mask.sum()\n",
    "\n",
    "    crt_d_entropy = np.log2(n0 / remaining)\n",
    "\n",
    "    d_entropy[i, :] = crt_d_entropy"
   ]
  },
  {
   "cell_type": "code",
   "execution_count": 28,
   "metadata": {},
   "outputs": [],
   "source": [
    "mean_d_entropy = np.mean(d_entropy, axis=1)\n",
    "median_d_entropy = np.median(d_entropy, axis=1)\n",
    "min_d_entropy = np.min(d_entropy, axis=1)"
   ]
  },
  {
   "cell_type": "code",
   "execution_count": 29,
   "metadata": {},
   "outputs": [
    {
     "name": "stdout",
     "output_type": "stream",
     "text": [
      "Best words by mean entropy: tears, soare, stare, reast, slate.\n",
      "Best words by median entropy: stoae, tears, strae, soare, tares.\n",
      "Best words by min entropy: serai, arise, aesir, raise, reais.\n"
     ]
    }
   ],
   "source": [
    "mapping = {\"mean\": mean_d_entropy, \"median\": median_d_entropy, \"min\": min_d_entropy}\n",
    "n_top = 5\n",
    "for key in mapping:\n",
    "    crt_d_entropy = mapping[key]\n",
    "    crt_sorting = np.argsort(-crt_d_entropy)\n",
    "    crt_top_words = db_five.word.iloc[crt_sorting[:n_top]]\n",
    "    crt_top_words_str = \", \".join(crt_top_words)\n",
    "    print(f\"Best words by {key} entropy: {crt_top_words_str}.\")"
   ]
  },
  {
   "cell_type": "markdown",
   "metadata": {},
   "source": [
    "## Try to find a group of five words with all distinct letters"
   ]
  },
  {
   "cell_type": "code",
   "execution_count": 30,
   "metadata": {},
   "outputs": [],
   "source": [
    "no_repeated_letter_mask = np.ones(n0, dtype=bool)\n",
    "for i_word in range(n0):\n",
    "    word = db_five.word.iloc[i_word]\n",
    "    if len(set(word)) != 5:\n",
    "        no_repeated_letter_mask[i_word] = False"
   ]
  },
  {
   "cell_type": "code",
   "execution_count": 31,
   "metadata": {},
   "outputs": [
    {
     "data": {
      "text/plain": [
       "8322"
      ]
     },
     "execution_count": 31,
     "metadata": {},
     "output_type": "execute_result"
    }
   ],
   "source": [
    "np.sum(no_repeated_letter_mask)"
   ]
  },
  {
   "cell_type": "code",
   "execution_count": 32,
   "metadata": {},
   "outputs": [
    {
     "name": "stderr",
     "output_type": "stream",
     "text": [
      "  7%|▋         | 962/12972 [31:07<5:33:46,  1.67s/it] "
     ]
    },
    {
     "name": "stdout",
     "output_type": "stream",
     "text": [
      "[brick, jumpy, glent, vozhd, waqfs]\n"
     ]
    },
    {
     "name": "stderr",
     "output_type": "stream",
     "text": [
      " 13%|█▎        | 1733/12972 [51:55<10:52:55,  3.49s/it]"
     ]
    },
    {
     "name": "stdout",
     "output_type": "stream",
     "text": [
      "[chunk, waltz, fjord, gymps, vibex]\n"
     ]
    },
    {
     "name": "stderr",
     "output_type": "stream",
     "text": [
      " 15%|█▌        | 1986/12972 [59:34<4:37:28,  1.52s/it] "
     ]
    },
    {
     "name": "stdout",
     "output_type": "stream",
     "text": [
      "[waltz, nymph, fjord, gucks, vibex]\n"
     ]
    },
    {
     "name": "stderr",
     "output_type": "stream",
     "text": [
      " 16%|█▌        | 2031/12972 [1:00:24<1:32:33,  1.97it/s]"
     ]
    },
    {
     "name": "stdout",
     "output_type": "stream",
     "text": [
      "[bling, jumpy, treck, vozhd, waqfs]\n"
     ]
    },
    {
     "name": "stderr",
     "output_type": "stream",
     "text": [
      " 20%|█▉        | 2571/12972 [1:14:45<10:17:58,  3.56s/it]"
     ]
    },
    {
     "name": "stdout",
     "output_type": "stream",
     "text": [
      "[prick, jumby, glent, vozhd, waqfs]\n"
     ]
    },
    {
     "name": "stderr",
     "output_type": "stream",
     "text": [
      " 40%|███▉      | 5153/12972 [1:58:43<1:22:47,  1.57it/s] "
     ]
    },
    {
     "name": "stdout",
     "output_type": "stream",
     "text": [
      "[pling, treck, jumby, vozhd, waqfs]\n"
     ]
    },
    {
     "name": "stderr",
     "output_type": "stream",
     "text": [
      " 45%|████▍     | 5799/12972 [2:04:46<1:14:11,  1.61it/s]"
     ]
    },
    {
     "name": "stdout",
     "output_type": "stream",
     "text": [
      "[clunk, bemix, grypt, vozhd, waqfs]\n"
     ]
    },
    {
     "name": "stderr",
     "output_type": "stream",
     "text": [
      " 54%|█████▍    | 7019/12972 [2:13:33<55:09,  1.80it/s]  "
     ]
    },
    {
     "name": "stdout",
     "output_type": "stream",
     "text": [
      "[brung, kempt, cylix, vozhd, waqfs]\n",
      "[brung, kempt, vozhd, waqfs, xylic]\n"
     ]
    },
    {
     "name": "stderr",
     "output_type": "stream",
     "text": [
      " 55%|█████▍    | 7091/12972 [2:13:54<26:51,  3.65it/s]  "
     ]
    },
    {
     "name": "stdout",
     "output_type": "stream",
     "text": [
      "[blunk, cimex, grypt, vozhd, waqfs]\n"
     ]
    },
    {
     "name": "stderr",
     "output_type": "stream",
     "text": [
      " 58%|█████▊    | 7500/12972 [2:16:10<13:16,  6.87it/s]  "
     ]
    },
    {
     "name": "stdout",
     "output_type": "stream",
     "text": [
      "[jumby, clipt, kreng, vozhd, waqfs]\n"
     ]
    },
    {
     "name": "stderr",
     "output_type": "stream",
     "text": [
      "100%|██████████| 12972/12972 [2:41:48<00:00,  1.34it/s]  \n"
     ]
    }
   ],
   "source": [
    "four_word_groups = []\n",
    "for i_word1 in tqdm.tqdm(range(n0)):\n",
    "    if not no_repeated_letter_mask[i_word1]:\n",
    "        continue\n",
    "\n",
    "    word1 = db_five.word.iloc[i_word1]\n",
    "    mask1 = no_repeated_letter_mask & (np.arange(n0) > i_word1)\n",
    "    for ch in word1:\n",
    "        mask1 &= not_contained_masks[ch]\n",
    "    \n",
    "    idxs2 = mask1.nonzero()[0]\n",
    "    if len(idxs2) == 0:\n",
    "        continue\n",
    "\n",
    "    for i_word2 in idxs2:\n",
    "        word2 = db_five.word.iloc[i_word2]\n",
    "        mask2 = mask1 & (np.arange(n0) > i_word2)\n",
    "        for ch in word2:\n",
    "            mask2 &= not_contained_masks[ch]\n",
    "        \n",
    "        idxs3 = mask2.nonzero()[0]\n",
    "        if len(idxs3) == 0:\n",
    "            continue\n",
    "\n",
    "        for i_word3 in idxs3:\n",
    "            word3 = db_five.word.iloc[i_word3]\n",
    "            mask3 = mask2 & (np.arange(n0) > i_word3)\n",
    "            for ch in word3:\n",
    "                mask3 &= not_contained_masks[ch]\n",
    "            \n",
    "            idxs4 = mask3.nonzero()[0]\n",
    "            if len(idxs4) == 0:\n",
    "                continue\n",
    "\n",
    "            for i_word4 in idxs4:\n",
    "                word4 = db_five.word.iloc[i_word4]\n",
    "\n",
    "                four_word_groups.append((word1, word2, word3, word4))\n",
    "\n",
    "                mask4 = mask3 & (np.arange(n0) > i_word4)\n",
    "                for ch in word4:\n",
    "                    mask4 &= not_contained_masks[ch]\n",
    "                \n",
    "                idxs5 = mask4.nonzero()[0]\n",
    "                if len(idxs5) == 0:\n",
    "                    continue\n",
    "\n",
    "                for i_word5 in idxs5:\n",
    "                    word5 = db_five.word.iloc[i_word5]\n",
    "                    print(f\"[{word1}, {word2}, {word3}, {word4}, {word5}]\")"
   ]
  },
  {
   "cell_type": "code",
   "execution_count": null,
   "metadata": {},
   "outputs": [],
   "source": []
  }
 ],
 "metadata": {
  "interpreter": {
   "hash": "85a160b8289447fd6b3353622879ef6a532259be0accf03f9e2c737369d855da"
  },
  "kernelspec": {
   "display_name": "Python 3.8.12 64-bit ('blind_separation')",
   "language": "python",
   "name": "python3"
  },
  "language_info": {
   "codemirror_mode": {
    "name": "ipython",
    "version": 3
   },
   "file_extension": ".py",
   "mimetype": "text/x-python",
   "name": "python",
   "nbconvert_exporter": "python",
   "pygments_lexer": "ipython3",
   "version": "3.8.12"
  },
  "orig_nbformat": 2
 },
 "nbformat": 4,
 "nbformat_minor": 2
}
