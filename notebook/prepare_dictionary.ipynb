{
 "cells": [
  {
   "cell_type": "markdown",
   "metadata": {},
   "source": [
    "# Prepare the dictionary (using CSW + freq. data from Kaggle dataset)"
   ]
  },
  {
   "cell_type": "code",
   "execution_count": 1,
   "metadata": {},
   "outputs": [],
   "source": [
    "import os\n",
    "import pandas as pd\n",
    "\n",
    "base_path = \"..\"\n",
    "data_path = os.path.join(base_path, \"data\")"
   ]
  },
  {
   "cell_type": "markdown",
   "metadata": {},
   "source": [
    "Use the [Collins Scrabble Words](https://en.wikipedia.org/wiki/Collins_Scrabble_Words) (CSW) 2019 dictionary, but sort by the frequency estimates from the [Google Web Trillion Word Corpus](https://www.kaggle.com/rtatman/english-word-frequency)."
   ]
  },
  {
   "cell_type": "code",
   "execution_count": 2,
   "metadata": {},
   "outputs": [],
   "source": [
    "kaggle_words = pd.read_csv(os.path.join(data_path, \"unigram_freq.csv\"))\n",
    "kaggle_words[\"freq\"] = kaggle_words[\"count\"] / kaggle_words[\"count\"].sum()\n",
    "\n",
    "csw_words = pd.read_csv(\n",
    "    os.path.join(data_path, \"csw_2019.txt\"), skiprows=2, header=None, names=[\"word\"]\n",
    ")\n",
    "csw_words.word = csw_words.word.str.lower()"
   ]
  },
  {
   "cell_type": "code",
   "execution_count": 3,
   "metadata": {},
   "outputs": [],
   "source": [
    "csw_with_freq = csw_words.join(kaggle_words.set_index(\"word\"), on=\"word\", how=\"left\").sort_values(\"freq\", ascending=False).reset_index()"
   ]
  },
  {
   "cell_type": "code",
   "execution_count": 4,
   "metadata": {},
   "outputs": [
    {
     "data": {
      "text/plain": [
       "279498"
      ]
     },
     "execution_count": 4,
     "metadata": {},
     "output_type": "execute_result"
    }
   ],
   "source": [
    "len(csw_with_freq)"
   ]
  },
  {
   "cell_type": "code",
   "execution_count": 5,
   "metadata": {},
   "outputs": [
    {
     "data": {
      "text/html": [
       "<div>\n",
       "<style scoped>\n",
       "    .dataframe tbody tr th:only-of-type {\n",
       "        vertical-align: middle;\n",
       "    }\n",
       "\n",
       "    .dataframe tbody tr th {\n",
       "        vertical-align: top;\n",
       "    }\n",
       "\n",
       "    .dataframe thead th {\n",
       "        text-align: right;\n",
       "    }\n",
       "</style>\n",
       "<table border=\"1\" class=\"dataframe\">\n",
       "  <thead>\n",
       "    <tr style=\"text-align: right;\">\n",
       "      <th></th>\n",
       "      <th>index</th>\n",
       "      <th>word</th>\n",
       "      <th>count</th>\n",
       "      <th>freq</th>\n",
       "    </tr>\n",
       "  </thead>\n",
       "  <tbody>\n",
       "    <tr>\n",
       "      <th>0</th>\n",
       "      <td>247021</td>\n",
       "      <td>the</td>\n",
       "      <td>2.313585e+10</td>\n",
       "      <td>0.039338</td>\n",
       "    </tr>\n",
       "    <tr>\n",
       "      <th>1</th>\n",
       "      <td>161979</td>\n",
       "      <td>of</td>\n",
       "      <td>1.315194e+10</td>\n",
       "      <td>0.022363</td>\n",
       "    </tr>\n",
       "    <tr>\n",
       "      <th>2</th>\n",
       "      <td>7937</td>\n",
       "      <td>and</td>\n",
       "      <td>1.299764e+10</td>\n",
       "      <td>0.022100</td>\n",
       "    </tr>\n",
       "    <tr>\n",
       "      <th>3</th>\n",
       "      <td>249823</td>\n",
       "      <td>to</td>\n",
       "      <td>1.213698e+10</td>\n",
       "      <td>0.020637</td>\n",
       "    </tr>\n",
       "    <tr>\n",
       "      <th>4</th>\n",
       "      <td>117363</td>\n",
       "      <td>in</td>\n",
       "      <td>8.469405e+09</td>\n",
       "      <td>0.014401</td>\n",
       "    </tr>\n",
       "    <tr>\n",
       "      <th>...</th>\n",
       "      <td>...</td>\n",
       "      <td>...</td>\n",
       "      <td>...</td>\n",
       "      <td>...</td>\n",
       "    </tr>\n",
       "    <tr>\n",
       "      <th>279493</th>\n",
       "      <td>279490</td>\n",
       "      <td>zythum</td>\n",
       "      <td>NaN</td>\n",
       "      <td>NaN</td>\n",
       "    </tr>\n",
       "    <tr>\n",
       "      <th>279494</th>\n",
       "      <td>279491</td>\n",
       "      <td>zythums</td>\n",
       "      <td>NaN</td>\n",
       "      <td>NaN</td>\n",
       "    </tr>\n",
       "    <tr>\n",
       "      <th>279495</th>\n",
       "      <td>279492</td>\n",
       "      <td>zyzzyva</td>\n",
       "      <td>NaN</td>\n",
       "      <td>NaN</td>\n",
       "    </tr>\n",
       "    <tr>\n",
       "      <th>279496</th>\n",
       "      <td>279493</td>\n",
       "      <td>zyzzyvas</td>\n",
       "      <td>NaN</td>\n",
       "      <td>NaN</td>\n",
       "    </tr>\n",
       "    <tr>\n",
       "      <th>279497</th>\n",
       "      <td>279495</td>\n",
       "      <td>zzzs</td>\n",
       "      <td>NaN</td>\n",
       "      <td>NaN</td>\n",
       "    </tr>\n",
       "  </tbody>\n",
       "</table>\n",
       "<p>279498 rows × 4 columns</p>\n",
       "</div>"
      ],
      "text/plain": [
       "         index      word         count      freq\n",
       "0       247021       the  2.313585e+10  0.039338\n",
       "1       161979        of  1.315194e+10  0.022363\n",
       "2         7937       and  1.299764e+10  0.022100\n",
       "3       249823        to  1.213698e+10  0.020637\n",
       "4       117363        in  8.469405e+09  0.014401\n",
       "...        ...       ...           ...       ...\n",
       "279493  279490    zythum           NaN       NaN\n",
       "279494  279491   zythums           NaN       NaN\n",
       "279495  279492   zyzzyva           NaN       NaN\n",
       "279496  279493  zyzzyvas           NaN       NaN\n",
       "279497  279495      zzzs           NaN       NaN\n",
       "\n",
       "[279498 rows x 4 columns]"
      ]
     },
     "execution_count": 5,
     "metadata": {},
     "output_type": "execute_result"
    }
   ],
   "source": [
    "csw_with_freq"
   ]
  },
  {
   "cell_type": "code",
   "execution_count": 6,
   "metadata": {},
   "outputs": [],
   "source": [
    "csw_with_freq.to_csv(os.path.join(data_path, \"dictionary.csv\"))"
   ]
  },
  {
   "cell_type": "code",
   "execution_count": null,
   "metadata": {},
   "outputs": [],
   "source": []
  }
 ],
 "metadata": {
  "interpreter": {
   "hash": "85a160b8289447fd6b3353622879ef6a532259be0accf03f9e2c737369d855da"
  },
  "kernelspec": {
   "display_name": "Python 3.8.12 ('clonle')",
   "language": "python",
   "name": "python3"
  },
  "language_info": {
   "codemirror_mode": {
    "name": "ipython",
    "version": 3
   },
   "file_extension": ".py",
   "mimetype": "text/x-python",
   "name": "python",
   "nbconvert_exporter": "python",
   "pygments_lexer": "ipython3",
   "version": "3.8.12"
  },
  "orig_nbformat": 4
 },
 "nbformat": 4,
 "nbformat_minor": 2
}
